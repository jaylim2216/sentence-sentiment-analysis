{
  "cells": [
    {
      "cell_type": "markdown",
      "metadata": {
        "id": "view-in-github",
        "colab_type": "text"
      },
      "source": [
        "<a href=\"https://colab.research.google.com/github/jaylim2216/sentence-sentiment-analysis/blob/main/IT1244_Team48_Project.ipynb\" target=\"_parent\"><img src=\"https://colab.research.google.com/assets/colab-badge.svg\" alt=\"Open In Colab\"/></a>"
      ]
    },
    {
      "cell_type": "markdown",
      "metadata": {
        "id": "9m7NYU-JF-vm"
      },
      "source": [
        "# Sentiment analysis using logistic regression"
      ]
    },
    {
      "cell_type": "markdown",
      "metadata": {
        "id": "Z5r6iEEDF-vq"
      },
      "source": [
        "The **`sentence sentiment`** data set consists of 10,662 sentences. Each sentence is labeled according to whether it comes from a positive review or negative review.\n",
        "\n",
        "We will use <font color=\"magenta\">logistic regression and support vector machine</font> to learn a classifier from this data.\n",
        "\n",
        "Articles/Research Papers used:\n",
        "1. https://medium.com/@lope.ai/sentiment-analysis-fbea6cc9fd29\n",
        "2. https://doi.org/10.1016/j.gltp.2022.03.012\n",
        "3. https://medium.com/analytics-vidhya/sentimental-analysis-using-svm-support-vector-machine-812f2454fbc5\n"
      ]
    },
    {
      "cell_type": "markdown",
      "metadata": {
        "id": "z4cw1Tk3F-vq"
      },
      "source": [
        "## Set up notebook, load data"
      ]
    },
    {
      "cell_type": "code",
      "execution_count": null,
      "metadata": {
        "id": "yYjVExTXF-vr"
      },
      "outputs": [],
      "source": [
        "%matplotlib inline\n",
        "import csv\n",
        "import string\n",
        "import numpy as np\n",
        "import matplotlib\n",
        "import matplotlib.pyplot as plt\n",
        "import nltk\n",
        "import re\n",
        "\n",
        "from nltk.corpus import stopwords\n",
        "matplotlib.rc('xtick', labelsize=14)\n",
        "matplotlib.rc('ytick', labelsize=14)"
      ]
    },
    {
      "cell_type": "markdown",
      "metadata": {
        "id": "15DZYaHoF-vs"
      },
      "source": [
        "Now, we load in the data. The data file is titled `dataset.csv` and we shall take a look at how the sentences look like before cleaning up the noise\n",
        "\n",
        "The data set consists of 10,662 sentences, each labeled '1' (if it came from a positive review) or '0' (if it came from a negative review)."
      ]
    },
    {
      "cell_type": "code",
      "execution_count": null,
      "metadata": {
        "colab": {
          "base_uri": "https://localhost:8080/"
        },
        "id": "sFxbZdjMF-vt",
        "outputId": "294f9194-8480-4b3d-ceca-30fb3e66a4b9"
      },
      "outputs": [
        {
          "output_type": "execute_result",
          "data": {
            "text/plain": [
              "[\"the rock is destined to be the 21st century's new  conan  and that he's going to make a splash even greater than arnold schwarzenegger , jean-claud van damme or steven segal .\",\n",
              " \"the gorgeously elaborate continuation of  the lord of the rings  trilogy is so huge that a column of words cannot adequately describe co-writer/director peter jackson's expanded vision of j . r . r . tolkien's middle-earth .\",\n",
              " 'effective but too-tepid biopic',\n",
              " 'if you sometimes like to go to the movies to have fun , wasabi is a good place to start .',\n",
              " \"emerges as something rare , an issue movie that's so honest and keenly observed that it doesn't feel like one .\",\n",
              " 'the film provides some great insight into the neurotic mindset of all comics -- even those who have reached the absolute top of the game .',\n",
              " 'offers that rare combination of entertainment and education .',\n",
              " 'perhaps no picture ever made has more literally showed that the road to hell is paved with good intentions .',\n",
              " \"steers turns in a snappy screenplay that curls at the edges ; it's so clever you want to hate it . but he somehow pulls it off .\",\n",
              " 'take care of my cat offers a refreshingly different slice of asian cinema .']"
            ]
          },
          "metadata": {},
          "execution_count": 29
        }
      ],
      "source": [
        "# Initialize empty lists to store sentences and labels\n",
        "sentences = []\n",
        "labels = []\n",
        "\n",
        "# Read the data from the CSV file\n",
        "with open(\"dataset.csv\") as csvfile:\n",
        "    csvreader = csv.reader(csvfile)\n",
        "    for row in csvreader:\n",
        "        if len(row) == 2:\n",
        "            label, sentence = row\n",
        "            sentence = sentence.replace(\"\\\\\", \"\").replace('\"', '')\n",
        "            sentences.append(sentence)\n",
        "            labels.append(int(label))\n",
        "\n",
        "y = np.array(labels, dtype='int8')\n",
        "\n",
        "sentences[:10]"
      ]
    },
    {
      "cell_type": "markdown",
      "metadata": {
        "id": "f1g2fJw-F-vt"
      },
      "source": [
        "### Preprocessing the text data\n",
        "\n",
        "We will do four transformations:\n",
        "\n",
        "1. Remove ordinals, punctuation and numbers.\n",
        "2. Transform all words to lower-case.\n",
        "3. Remove _stop words_.\n",
        "4. Convert the sentences into vectors, using a TF-IDF representation.\n",
        "\n",
        "We begin with first two steps."
      ]
    },
    {
      "cell_type": "code",
      "execution_count": null,
      "metadata": {
        "id": "g4jtKVViF-vu"
      },
      "outputs": [],
      "source": [
        "## remove_ordinals takes a list text_list\n",
        "## returns cleaned_list with ordinals 'st', 'nd','rd','th' in sentences replaced by ''\n",
        "\n",
        "## full_remove takes a string x and a list of characters removal_list\n",
        "## returns x with all the characters in removal_list replaced by ' '\n",
        "\n",
        "\n",
        "pattern = r'\\b\\d+(st|nd|rd|th)\\b'\n",
        "def remove_ordinals(text_list):\n",
        "    cleaned_list = []\n",
        "    for text in text_list:\n",
        "        cleaned_text = re.sub(pattern, '', text)\n",
        "        cleaned_list.append(cleaned_text)\n",
        "    return cleaned_list\n",
        "\n",
        "def full_remove(x, removal_list):\n",
        "    for w in removal_list:\n",
        "        x = x.replace(w, '')\n",
        "    return x\n",
        "\n",
        "## Remove ordinals and digits\n",
        "sentences = remove_ordinals(sentences)\n",
        "digits = [str(x) for x in range(10)]\n",
        "digit_less = [full_remove(x, digits) for x in sentences]\n",
        "\n",
        "## Remove punctuation\n",
        "punc_less = [full_remove(x, list(string.punctuation)) for x in digit_less]\n",
        "\n",
        "## Make everything lower-case\n",
        "sents_lower = [x.lower() for x in punc_less]"
      ]
    },
    {
      "cell_type": "markdown",
      "metadata": {
        "id": "ffRY2DxiF-vu"
      },
      "source": [
        "### Stop words\n",
        "\n",
        "Stop words are words that are filtered out because they are believed to contain no useful information for the task at hand. These usually include articles such as 'a' and 'the', pronouns such as 'i' and 'they', and prepositions such 'to' and 'from'. We have imported a list of stopwords from ntlk."
      ]
    },
    {
      "cell_type": "code",
      "execution_count": null,
      "metadata": {
        "colab": {
          "base_uri": "https://localhost:8080/"
        },
        "id": "lbC3zuyVF-vv",
        "outputId": "5e38ade5-4167-4047-8a52-ec18a3a8e56a"
      },
      "outputs": [
        {
          "output_type": "stream",
          "name": "stderr",
          "text": [
            "[nltk_data] Downloading package stopwords to /root/nltk_data...\n",
            "[nltk_data]   Package stopwords is already up-to-date!\n"
          ]
        }
      ],
      "source": [
        "## Define our stop words\n",
        "nltk.download('stopwords')\n",
        "stop_set = set(stopwords.words('english'))\n",
        "\n",
        "## Remove stop words\n",
        "sents_split = [x.split() for x in sents_lower]\n",
        "sents_processed = [\" \".join(list(filter(lambda a: a not in stop_set, x))) for x in sents_split]"
      ]
    },
    {
      "cell_type": "markdown",
      "metadata": {
        "id": "FIDNyzssF-vv"
      },
      "source": [
        "Let's take a look at what the sentences look like so far"
      ]
    },
    {
      "cell_type": "code",
      "execution_count": null,
      "metadata": {
        "colab": {
          "base_uri": "https://localhost:8080/"
        },
        "id": "hBdF7emZF-vv",
        "outputId": "6740b55c-4e92-4870-f089-5697fdda5a8b"
      },
      "outputs": [
        {
          "output_type": "execute_result",
          "data": {
            "text/plain": [
              "['rock destined centurys new conan hes going make splash even greater arnold schwarzenegger jeanclaud van damme steven segal',\n",
              " 'gorgeously elaborate continuation lord rings trilogy huge column words cannot adequately describe cowriterdirector peter jacksons expanded vision j r r tolkiens middleearth',\n",
              " 'effective tootepid biopic',\n",
              " 'sometimes like go movies fun wasabi good place start',\n",
              " 'emerges something rare issue movie thats honest keenly observed doesnt feel like one',\n",
              " 'film provides great insight neurotic mindset comics even reached absolute top game',\n",
              " 'offers rare combination entertainment education',\n",
              " 'perhaps picture ever made literally showed road hell paved good intentions',\n",
              " 'steers turns snappy screenplay curls edges clever want hate somehow pulls',\n",
              " 'take care cat offers refreshingly different slice asian cinema']"
            ]
          },
          "metadata": {},
          "execution_count": 32
        }
      ],
      "source": [
        "sents_processed[:10]"
      ]
    },
    {
      "cell_type": "markdown",
      "metadata": {
        "id": "mL2GhoR5F-vv"
      },
      "source": [
        "### Feature Representation (TF-IDF)\n",
        "\n",
        "In Article 1, we see that they used the Bag-Of-Words model with CountVectorizer. To improve the performance of our own model, we chose to use the TfIdfVectorizer instead.\n",
        "\n",
        "The TfidfVectorizer from scikit-learn converts a collection of preprocessed sentences (sents_processed) into a TF-IDF matrix, which reflects the relative importance of words within the dataset by considering their frequency across documents. This representation with TF-IDF weighting is limited to the top 7000 terms to focus on the most significant features and weed out spelling mistakes and words which occur too infrequently.\n",
        "\n",
        "After transforming the sentences into TF-IDF features and converting the sparse matrix to a dense array (tfidf_mat), the code appends a column of ones to the matrix. This additional column serves as a bias term for subsequent modeling, ensuring that the machine learning algorithms can handle inputs where all other features are zero, thereby enhancing the performance of sentiment classification models."
      ]
    },
    {
      "cell_type": "code",
      "execution_count": null,
      "metadata": {
        "id": "Kb3Zi5YXF-vw"
      },
      "outputs": [],
      "source": [
        "from sklearn.feature_extraction.text import TfidfVectorizer\n",
        "\n",
        "## Transform to bag of words representation.\n",
        "vectorizer = TfidfVectorizer(analyzer=\"word\", tokenizer=None, preprocessor=None, stop_words=None, max_features=7000)\n",
        "tfidf_features = vectorizer.fit_transform(sents_processed)\n",
        "\n",
        "## Append '1' to the end of each vector.\n",
        "tfidf_mat = tfidf_features.toarray()\n",
        "data_mat = np.ones((tfidf_mat.shape[0], tfidf_mat.shape[1]+1))\n",
        "data_mat[:,:-1] = tfidf_mat\n"
      ]
    },
    {
      "cell_type": "markdown",
      "metadata": {
        "id": "Mwj0tXyGF-vw"
      },
      "source": [
        "### Training / test split\n",
        "\n",
        "Finally, we use stratified k-fold cross validation and split the data set into test sets and training sets.\n",
        "\n",
        "We do this because it ensures each fold reflects the overall class proportions, thereby maintaining the integrity of the data and preventing biased estimates. It also provides a more reliable and generaliSable assessment of the model's performance, as every data point is used for both training and validation, reducing the impact of randomness and enhancing the robustness of the evaluation process.\n",
        "\n",
        "We set k = 5, meaning 20% of the data set is used as a test set and the rest as the training set.\n",
        "\n",
        "\n"
      ]
    },
    {
      "cell_type": "code",
      "source": [
        "from sklearn.model_selection import StratifiedKFold\n",
        "k_folds = 5\n",
        "\n",
        "# Initialize StratifiedKFold object\n",
        "skf = StratifiedKFold(n_splits=k_folds, shuffle=True, random_state=0)\n",
        "\n",
        "X = data_mat\n",
        "# Perform k-fold cross-validation\n",
        "for train_index, test_index in skf.split(X, y):\n",
        "    # Split data into training and test sets for this fold\n",
        "    train_data, test_data = X[train_index], X[test_index]\n",
        "    train_labels, test_labels = y[train_index], y[test_index]\n",
        "\n",
        "print(\"train data: \", train_data.shape)\n",
        "print(\"test data: \", test_data.shape)\n"
      ],
      "metadata": {
        "id": "FoAeNsmWvDb_",
        "colab": {
          "base_uri": "https://localhost:8080/"
        },
        "outputId": "5a11c8a6-1858-422e-c900-8c0383c58ab1"
      },
      "execution_count": null,
      "outputs": [
        {
          "output_type": "stream",
          "name": "stdout",
          "text": [
            "train data:  (8530, 7001)\n",
            "test data:  (2132, 7001)\n"
          ]
        }
      ]
    },
    {
      "cell_type": "markdown",
      "metadata": {
        "id": "rB7LAv6CF-vw"
      },
      "source": [
        "## Fitting a logistic regression model to the training data\n",
        "\n",
        "Before fitting a logistic regression model to the training data, we shall first choose optimal parameters by creating a randomized search with cross-validation. After running, results are as follow:\n",
        "\n",
        "**Best parameters found:  {'tol': 0.001, 'penalty': 'elasticnet', 'max_iter': 5000, 'loss': 'log', 'alpha': 0.0001}**,\n",
        "\n",
        "with a validation accuracy of **0.7607879924953096**\n"
      ]
    },
    {
      "cell_type": "code",
      "source": [
        "from sklearn.metrics import classification_report, accuracy_score\n",
        "from sklearn.metrics import roc_curve, auc\n",
        "from sklearn.model_selection import RandomizedSearchCV\n",
        "from sklearn.linear_model import SGDClassifier\n",
        "# Define the parameter grid\n",
        "param_distributions = {\n",
        "    'loss': ['log'],\n",
        "    'penalty': ['l1', 'l2', 'elasticnet'],\n",
        "    'alpha': [1e-4, 1e-3, 1e-2, 1e-1, 1e0, 1e1, 1e2, 1e3],\n",
        "    'max_iter': [1000, 5000, 10000],\n",
        "    'tol': [1e-3, 1e-4, 1e-5]\n",
        "}\n",
        "\n",
        "# Create the randomized search with cross-validation\n",
        "random_search = RandomizedSearchCV(SGDClassifier(), param_distributions, n_iter=10, cv=3, verbose=3, n_jobs=-1, random_state=42)\n",
        "\n",
        "# Fit the model\n",
        "random_search.fit(train_data, train_labels)\n",
        "\n",
        "# Print the best parameters\n",
        "print(\"Best parameters found: \", random_search.best_params_)\n",
        "\n",
        "# Evaluate on validation set\n",
        "best_clf = random_search.best_estimator_\n",
        "val_preds = best_clf.predict(test_data)\n",
        "val_acc = accuracy_score(test_labels, val_preds)\n",
        "print(\"Validation accuracy of the best model: \", val_acc)"
      ],
      "metadata": {
        "id": "zmlrMxf515vY",
        "colab": {
          "base_uri": "https://localhost:8080/"
        },
        "outputId": "64ce5038-ba66-4b9a-b3d6-5d9d42d5f51f"
      },
      "execution_count": null,
      "outputs": [
        {
          "output_type": "stream",
          "name": "stdout",
          "text": [
            "Fitting 3 folds for each of 10 candidates, totalling 30 fits\n"
          ]
        },
        {
          "output_type": "stream",
          "name": "stderr",
          "text": [
            "/usr/local/lib/python3.10/dist-packages/sklearn/linear_model/_stochastic_gradient.py:163: FutureWarning: The loss 'log' was deprecated in v1.1 and will be removed in version 1.3. Use `loss='log_loss'` which is equivalent.\n",
            "  warnings.warn(\n"
          ]
        },
        {
          "output_type": "stream",
          "name": "stdout",
          "text": [
            "Best parameters found:  {'tol': 0.001, 'penalty': 'elasticnet', 'max_iter': 5000, 'loss': 'log', 'alpha': 0.0001}\n",
            "Validation accuracy of the best model:  0.7560975609756098\n"
          ]
        }
      ]
    },
    {
      "cell_type": "markdown",
      "source": [
        "We shall now implement our own logistic regression solver using stochastic gradient descent, which is built into `scikit-learn`.\n",
        "\n",
        "Due to the randomness in the SGD procedure, different runs can yield slightly different solutions (and thus different error values)."
      ],
      "metadata": {
        "id": "1Y3tOGForqFi"
      }
    },
    {
      "cell_type": "code",
      "source": [
        "# Fit logistic classifier on training data\n",
        "clf = SGDClassifier(\n",
        "    loss=\"log\",\n",
        "    penalty=\"elasticnet\",\n",
        "    max_iter = 5000,\n",
        "    alpha = 0.0001,\n",
        "    tol = 0.001\n",
        ")\n",
        "clf.fit(train_data, train_labels)\n",
        "\n",
        "## Pull out the parameters (w,b) of the logistic regression model\n",
        "w_log = clf.coef_[0,:]\n",
        "b_log = clf.intercept_\n",
        "\n",
        "# Get predictions on training and test data\n",
        "preds_train = clf.predict(train_data)\n",
        "preds_test = clf.predict(test_data)\n",
        "\n",
        "# Compute accuracy\n",
        "acc_train = accuracy_score(train_labels, preds_train)\n",
        "acc_test = accuracy_score(test_labels, preds_test)\n",
        "\n",
        "print(\"Training accuracy: \", acc_train)\n",
        "print(\"Test accuracy: \", acc_test)\n",
        "\n",
        "# Precision, Recall, and F1-score\n",
        "print(\"Classification Report (Train):\")\n",
        "print(classification_report(train_labels, preds_train))\n",
        "print(\"\\nClassification Report (Test):\")\n",
        "print(classification_report(test_labels, preds_test))\n",
        "\n",
        "# Compute ROC curve and ROC area for predictions on test data\n",
        "fpr, tpr, _ = roc_curve(test_labels, clf.decision_function(test_data))\n",
        "roc_auc = auc(fpr, tpr)\n",
        "\n",
        "# Plot ROC curve\n",
        "plt.figure()\n",
        "plt.plot(fpr, tpr, color='darkorange', lw=2, label='ROC curve (area = %0.2f)' % roc_auc)\n",
        "plt.plot([0, 1], [0, 1], color='navy', lw=2, linestyle='--')\n",
        "plt.xlim([0.0, 1.0])\n",
        "plt.ylim([0.0, 1.05])\n",
        "plt.xlabel('False Positive Rate')\n",
        "plt.ylabel('True Positive Rate')\n",
        "plt.title('Receiver Operating Characteristic (ROC)')\n",
        "plt.legend(loc=\"lower right\")\n",
        "plt.show()"
      ],
      "metadata": {
        "id": "xxMOK4AEy0lc",
        "colab": {
          "base_uri": "https://localhost:8080/",
          "height": 911
        },
        "outputId": "01d3da29-eb25-4148-d4ed-e8dddc7cb190"
      },
      "execution_count": null,
      "outputs": [
        {
          "output_type": "stream",
          "name": "stderr",
          "text": [
            "/usr/local/lib/python3.10/dist-packages/sklearn/linear_model/_stochastic_gradient.py:163: FutureWarning: The loss 'log' was deprecated in v1.1 and will be removed in version 1.3. Use `loss='log_loss'` which is equivalent.\n",
            "  warnings.warn(\n"
          ]
        },
        {
          "output_type": "stream",
          "name": "stdout",
          "text": [
            "Training accuracy:  0.8766705744431419\n",
            "Test accuracy:  0.7640712945590994\n",
            "Classification Report (Train):\n",
            "              precision    recall  f1-score   support\n",
            "\n",
            "           0       0.85      0.92      0.88      4265\n",
            "           1       0.91      0.84      0.87      4265\n",
            "\n",
            "    accuracy                           0.88      8530\n",
            "   macro avg       0.88      0.88      0.88      8530\n",
            "weighted avg       0.88      0.88      0.88      8530\n",
            "\n",
            "\n",
            "Classification Report (Test):\n",
            "              precision    recall  f1-score   support\n",
            "\n",
            "           0       0.74      0.80      0.77      1066\n",
            "           1       0.79      0.72      0.75      1066\n",
            "\n",
            "    accuracy                           0.76      2132\n",
            "   macro avg       0.77      0.76      0.76      2132\n",
            "weighted avg       0.77      0.76      0.76      2132\n",
            "\n"
          ]
        },
        {
          "output_type": "display_data",
          "data": {
            "text/plain": [
              "<Figure size 640x480 with 1 Axes>"
            ],
            "image/png": "[encoded data removed]"
          },
          "metadata": {}
        }
      ]
    },
    {
      "cell_type": "markdown",
      "source": [
        "## Fitting a support vector machine (SVM) to the data\n",
        "From article 2, it claims that SVM is the best model to use for sentiment analysis, thus we will attempt to fit a SVM to the data.\n",
        "\n",
        "`scikit-learn` provides an SVM solver that we will use. The following routine takes as input the constant `C` (from the above optimization problem) and returns the training and test error of the resulting SVM model. It is invoked as follows:\n",
        "\n",
        "* `training_error, test_error = fit_classifier(C)`\n",
        "\n",
        "The default value for parameter `C` is 1.0.\n",
        "\n",
        "For sentiment analysis, an SVM model works by finding the best boundary that separates data points (in this case, textual data) into classes — for example, positive and negative sentiments. The constant C mentioned in the text is a parameter that the SVM uses to balance the decision boundary margin width and the classification error rate. A smaller value of C allows for a wider margin and more misclassifications (a softer margin), while a larger C leads to a narrower margin and fewer misclassifications (a harder margin), potentially leading to overfitting.\n",
        "\n",
        "Compared to Logistic Regression, which estimates probabilities that a data point belongs to a particular class, SVM focuses on the separation and is often more effective in higher-dimensional spaces (like text data transformed into TF-IDF features). In sentiment analysis, where the goal is to categorize text as expressing a positive or negative sentiment, SVM can be particularly adept at handling the nuances and complexities of language, often capturing subtle patterns that might be missed by simpler models. The code below would be used to train the SVM on labeled sentiment data, optimizing C to find the best performing model on unseen test data.\n"
      ],
      "metadata": {
        "id": "t8YLgF1-hRcb"
      }
    },
    {
      "cell_type": "code",
      "source": [
        "from sklearn import svm\n",
        "def fit_classifier(C_value=1.0):\n",
        "    clf = svm.LinearSVC(C=C_value, loss='hinge')\n",
        "    clf.fit(train_data,train_labels)\n",
        "    ## Get predictions on training data\n",
        "    train_preds = clf.predict(train_data)\n",
        "    train_error = float(np.sum((train_preds > 0.0) != (train_labels > 0.0)))/len(train_labels)\n",
        "    ## Get predictions on test data\n",
        "    test_preds = clf.predict(test_data)\n",
        "    test_error = float(np.sum((test_preds > 0.0) != (test_labels > 0.0)))/len(test_labels)\n",
        "    ##\n",
        "    return train_error, test_error"
      ],
      "metadata": {
        "id": "Hx6WLaP6hj7R"
      },
      "execution_count": null,
      "outputs": []
    },
    {
      "cell_type": "code",
      "source": [
        "cvals = [0.01,0.1,1.0,10.0,100.0,1000.0,10000.0]\n",
        "for c in cvals:\n",
        "    train_error, test_error = fit_classifier(c)\n",
        "    print (\"Error rate for C = %0.2f: train %0.3f test %0.3f\" % (c, train_error, test_error))"
      ],
      "metadata": {
        "id": "XtCZAqk8hoC3",
        "colab": {
          "base_uri": "https://localhost:8080/"
        },
        "outputId": "4ccc49aa-131e-4e09-f5c8-40e83d1b56ab"
      },
      "execution_count": null,
      "outputs": [
        {
          "output_type": "stream",
          "name": "stdout",
          "text": [
            "Error rate for C = 0.01: train 0.218 test 0.279\n",
            "Error rate for C = 0.10: train 0.196 test 0.268\n",
            "Error rate for C = 1.00: train 0.090 test 0.244\n"
          ]
        },
        {
          "output_type": "stream",
          "name": "stderr",
          "text": [
            "/usr/local/lib/python3.10/dist-packages/sklearn/svm/_base.py:1244: ConvergenceWarning: Liblinear failed to converge, increase the number of iterations.\n",
            "  warnings.warn(\n"
          ]
        },
        {
          "output_type": "stream",
          "name": "stdout",
          "text": [
            "Error rate for C = 10.00: train 0.021 test 0.272\n"
          ]
        },
        {
          "output_type": "stream",
          "name": "stderr",
          "text": [
            "/usr/local/lib/python3.10/dist-packages/sklearn/svm/_base.py:1244: ConvergenceWarning: Liblinear failed to converge, increase the number of iterations.\n",
            "  warnings.warn(\n"
          ]
        },
        {
          "output_type": "stream",
          "name": "stdout",
          "text": [
            "Error rate for C = 100.00: train 0.001 test 0.301\n"
          ]
        },
        {
          "output_type": "stream",
          "name": "stderr",
          "text": [
            "/usr/local/lib/python3.10/dist-packages/sklearn/svm/_base.py:1244: ConvergenceWarning: Liblinear failed to converge, increase the number of iterations.\n",
            "  warnings.warn(\n"
          ]
        },
        {
          "output_type": "stream",
          "name": "stdout",
          "text": [
            "Error rate for C = 1000.00: train 0.001 test 0.301\n",
            "Error rate for C = 10000.00: train 0.001 test 0.301\n"
          ]
        },
        {
          "output_type": "stream",
          "name": "stderr",
          "text": [
            "/usr/local/lib/python3.10/dist-packages/sklearn/svm/_base.py:1244: ConvergenceWarning: Liblinear failed to converge, increase the number of iterations.\n",
            "  warnings.warn(\n"
          ]
        }
      ]
    },
    {
      "cell_type": "markdown",
      "source": [
        "## Evaluating C by k-fold cross-validation\n",
        "\n",
        "Looking at article 3, we see that the author immediately chose the value of `C` as 1 without any justification. To improve on this in our project, we decide to look at the choice of `C` .\n",
        "\n",
        "As we can see, the choice of `C` has a very significant effect on the performance of the SVM classifier. We were able to assess this because we have a separate test set. To choose `C`  based solely on a training set, we shall use **`k-fold cross validation`** to estimate the error associated with a specific value of `C`\n",
        "\n",
        "The function `cross_validation_error` performs k-fold cross-validation to estimate the error of a linear SVM classifier on a given dataset. It takes four parameters: the feature set `x`, the target variable `y`, a regularization parameter `C_value`, and the number of folds `k`. The dataset is shuffled, and then partitioned into `k` subsets. For each fold, it designates a subset as the test set and the remainder as the training set. It then trains the SVM classifier with the specified `C_value` on the training set and evaluates it on the test set, calculating the proportion of misclassified samples. This process is repeated for each fold, and the function returns the average error across all folds. This average error serves as an estimate of the model's performance on unseen data."
      ],
      "metadata": {
        "id": "qPTyTqh4hte4"
      }
    },
    {
      "cell_type": "code",
      "source": [
        "def cross_validation_error(x,y,C_value,k):\n",
        "    n = len(y)\n",
        "    ## Randomly shuffle indices\n",
        "    indices = np.random.permutation(n)\n",
        "\n",
        "    ## Initialize error\n",
        "    err = 0.0\n",
        "\n",
        "    ## Iterate over partitions\n",
        "    for i in range(k):\n",
        "        ## Partition indices\n",
        "        test_indices = indices[int(i*(n/k)):int((i+1)*(n/k) - 1)]\n",
        "        train_indices = np.setdiff1d(indices, test_indices)\n",
        "\n",
        "        ## Train classifier with parameter c\n",
        "        clf = svm.LinearSVC(C=C_value, loss='hinge')\n",
        "        clf.fit(x[train_indices], y[train_indices])\n",
        "\n",
        "        ## Get predictions on test partition\n",
        "        preds = clf.predict(x[test_indices])\n",
        "\n",
        "        ## Compute error\n",
        "        err += float(np.sum((preds > 0.0) != (y[test_indices] > 0.0)))/len(test_indices)\n",
        "\n",
        "    return err/k\n"
      ],
      "metadata": {
        "id": "Z6Gh7doehuig"
      },
      "execution_count": null,
      "outputs": []
    },
    {
      "cell_type": "markdown",
      "source": [
        "## Picking a value of C\n",
        "The procedure **cross_validation_error** (above) evaluates a single candidate value of `C`. We shall use it repeatedly to identify a good `C`.\n"
      ],
      "metadata": {
        "id": "YK9NzyhZh2lN"
      }
    },
    {
      "cell_type": "code",
      "source": [
        "def choose_parameter(x,y,k):\n",
        "    result = []\n",
        "    Cs = [1 * 10**(i) for i in range(-4, 4)]\n",
        "    for c in Cs:\n",
        "        err = cross_validation_error(x, y, c, k)\n",
        "        result.append(err)\n",
        "    min_err = min(result)\n",
        "    index = result.index(min_err)\n",
        "    C = 1 * 10**(-4+index)\n",
        "    plt.plot(np.log(Cs),result)\n",
        "    plt.xlabel(\"Log(C)\")\n",
        "    plt.ylabel(\"Corresponding error\")\n",
        "    return C, min_err\n"
      ],
      "metadata": {
        "id": "Vo9XaT_Dh6Mo"
      },
      "execution_count": null,
      "outputs": []
    },
    {
      "cell_type": "code",
      "source": [
        "c, err = choose_parameter(train_data, train_labels, 10)\n",
        "print(\"Choice of C: \", c)\n",
        "print(\"Cross-validation error estimate: \", err)\n",
        "## Train it and test it\n",
        "clf = svm.LinearSVC(C=c, loss='hinge')\n",
        "clf.fit(train_data, train_labels)\n",
        "preds = clf.predict(test_data)\n",
        "error = float(np.sum((preds > 0.0) != (test_labels > 0.0)))/len(test_labels)\n",
        "print(\"Test error: \", error)"
      ],
      "metadata": {
        "id": "YydP-Pyrh35f",
        "colab": {
          "base_uri": "https://localhost:8080/",
          "height": 1000
        },
        "outputId": "bf72f488-e805-474b-c3bb-53d2ac369eab"
      },
      "execution_count": null,
      "outputs": [
        {
          "output_type": "stream",
          "name": "stderr",
          "text": [
            "/usr/local/lib/python3.10/dist-packages/sklearn/svm/_base.py:1244: ConvergenceWarning: Liblinear failed to converge, increase the number of iterations.\n",
            "  warnings.warn(\n",
            "/usr/local/lib/python3.10/dist-packages/sklearn/svm/_base.py:1244: ConvergenceWarning: Liblinear failed to converge, increase the number of iterations.\n",
            "  warnings.warn(\n",
            "/usr/local/lib/python3.10/dist-packages/sklearn/svm/_base.py:1244: ConvergenceWarning: Liblinear failed to converge, increase the number of iterations.\n",
            "  warnings.warn(\n",
            "/usr/local/lib/python3.10/dist-packages/sklearn/svm/_base.py:1244: ConvergenceWarning: Liblinear failed to converge, increase the number of iterations.\n",
            "  warnings.warn(\n",
            "/usr/local/lib/python3.10/dist-packages/sklearn/svm/_base.py:1244: ConvergenceWarning: Liblinear failed to converge, increase the number of iterations.\n",
            "  warnings.warn(\n",
            "/usr/local/lib/python3.10/dist-packages/sklearn/svm/_base.py:1244: ConvergenceWarning: Liblinear failed to converge, increase the number of iterations.\n",
            "  warnings.warn(\n",
            "/usr/local/lib/python3.10/dist-packages/sklearn/svm/_base.py:1244: ConvergenceWarning: Liblinear failed to converge, increase the number of iterations.\n",
            "  warnings.warn(\n",
            "/usr/local/lib/python3.10/dist-packages/sklearn/svm/_base.py:1244: ConvergenceWarning: Liblinear failed to converge, increase the number of iterations.\n",
            "  warnings.warn(\n",
            "/usr/local/lib/python3.10/dist-packages/sklearn/svm/_base.py:1244: ConvergenceWarning: Liblinear failed to converge, increase the number of iterations.\n",
            "  warnings.warn(\n",
            "/usr/local/lib/python3.10/dist-packages/sklearn/svm/_base.py:1244: ConvergenceWarning: Liblinear failed to converge, increase the number of iterations.\n",
            "  warnings.warn(\n",
            "/usr/local/lib/python3.10/dist-packages/sklearn/svm/_base.py:1244: ConvergenceWarning: Liblinear failed to converge, increase the number of iterations.\n",
            "  warnings.warn(\n",
            "/usr/local/lib/python3.10/dist-packages/sklearn/svm/_base.py:1244: ConvergenceWarning: Liblinear failed to converge, increase the number of iterations.\n",
            "  warnings.warn(\n",
            "/usr/local/lib/python3.10/dist-packages/sklearn/svm/_base.py:1244: ConvergenceWarning: Liblinear failed to converge, increase the number of iterations.\n",
            "  warnings.warn(\n",
            "/usr/local/lib/python3.10/dist-packages/sklearn/svm/_base.py:1244: ConvergenceWarning: Liblinear failed to converge, increase the number of iterations.\n",
            "  warnings.warn(\n",
            "/usr/local/lib/python3.10/dist-packages/sklearn/svm/_base.py:1244: ConvergenceWarning: Liblinear failed to converge, increase the number of iterations.\n",
            "  warnings.warn(\n",
            "/usr/local/lib/python3.10/dist-packages/sklearn/svm/_base.py:1244: ConvergenceWarning: Liblinear failed to converge, increase the number of iterations.\n",
            "  warnings.warn(\n",
            "/usr/local/lib/python3.10/dist-packages/sklearn/svm/_base.py:1244: ConvergenceWarning: Liblinear failed to converge, increase the number of iterations.\n",
            "  warnings.warn(\n",
            "/usr/local/lib/python3.10/dist-packages/sklearn/svm/_base.py:1244: ConvergenceWarning: Liblinear failed to converge, increase the number of iterations.\n",
            "  warnings.warn(\n",
            "/usr/local/lib/python3.10/dist-packages/sklearn/svm/_base.py:1244: ConvergenceWarning: Liblinear failed to converge, increase the number of iterations.\n",
            "  warnings.warn(\n",
            "/usr/local/lib/python3.10/dist-packages/sklearn/svm/_base.py:1244: ConvergenceWarning: Liblinear failed to converge, increase the number of iterations.\n",
            "  warnings.warn(\n",
            "/usr/local/lib/python3.10/dist-packages/sklearn/svm/_base.py:1244: ConvergenceWarning: Liblinear failed to converge, increase the number of iterations.\n",
            "  warnings.warn(\n",
            "/usr/local/lib/python3.10/dist-packages/sklearn/svm/_base.py:1244: ConvergenceWarning: Liblinear failed to converge, increase the number of iterations.\n",
            "  warnings.warn(\n",
            "/usr/local/lib/python3.10/dist-packages/sklearn/svm/_base.py:1244: ConvergenceWarning: Liblinear failed to converge, increase the number of iterations.\n",
            "  warnings.warn(\n",
            "/usr/local/lib/python3.10/dist-packages/sklearn/svm/_base.py:1244: ConvergenceWarning: Liblinear failed to converge, increase the number of iterations.\n",
            "  warnings.warn(\n",
            "/usr/local/lib/python3.10/dist-packages/sklearn/svm/_base.py:1244: ConvergenceWarning: Liblinear failed to converge, increase the number of iterations.\n",
            "  warnings.warn(\n",
            "/usr/local/lib/python3.10/dist-packages/sklearn/svm/_base.py:1244: ConvergenceWarning: Liblinear failed to converge, increase the number of iterations.\n",
            "  warnings.warn(\n",
            "/usr/local/lib/python3.10/dist-packages/sklearn/svm/_base.py:1244: ConvergenceWarning: Liblinear failed to converge, increase the number of iterations.\n",
            "  warnings.warn(\n",
            "/usr/local/lib/python3.10/dist-packages/sklearn/svm/_base.py:1244: ConvergenceWarning: Liblinear failed to converge, increase the number of iterations.\n",
            "  warnings.warn(\n",
            "/usr/local/lib/python3.10/dist-packages/sklearn/svm/_base.py:1244: ConvergenceWarning: Liblinear failed to converge, increase the number of iterations.\n",
            "  warnings.warn(\n",
            "/usr/local/lib/python3.10/dist-packages/sklearn/svm/_base.py:1244: ConvergenceWarning: Liblinear failed to converge, increase the number of iterations.\n",
            "  warnings.warn(\n"
          ]
        },
        {
          "output_type": "stream",
          "name": "stdout",
          "text": [
            "Choice of C:  1\n",
            "Cross-validation error estimate:  0.24800469483568074\n",
            "Test error:  0.24437148217636023\n"
          ]
        },
        {
          "output_type": "display_data",
          "data": {
            "text/plain": [
              "<Figure size 640x480 with 1 Axes>"
            ],
            "image/png": "[encoded data removed]"
          },
          "metadata": {}
        }
      ]
    },
    {
      "cell_type": "code",
      "source": [
        "w_svm = clf.coef_[0,:]\n",
        "b_svm = clf.intercept_\n",
        "\n",
        "preds_train = clf.predict(train_data)\n",
        "preds_test = clf.predict(test_data)\n",
        "\n",
        "# Compute accuracy\n",
        "acc_train = accuracy_score(train_labels, preds_train)\n",
        "acc_test = accuracy_score(test_labels, preds_test)\n",
        "\n",
        "print(\"Training accuracy: \", acc_train)\n",
        "print(\"Test accuracy: \", acc_test)\n",
        "\n",
        "# Precision, Recall, and F1-score\n",
        "print(\"Classification Report (Train):\")\n",
        "print(classification_report(train_labels, preds_train))\n",
        "print(\"\\nClassification Report (Test):\")\n",
        "print(classification_report(test_labels, preds_test))\n",
        "\n",
        "# Compute ROC curve and ROC area for predictions on test data\n",
        "fpr, tpr, _ = roc_curve(test_labels, clf.decision_function(test_data))\n",
        "roc_auc = auc(fpr, tpr)\n",
        "\n",
        "# Plot ROC curve\n",
        "plt.figure()\n",
        "plt.plot(fpr, tpr, color='darkorange', lw=2, label='ROC curve (area = %0.2f)' % roc_auc)\n",
        "plt.plot([0, 1], [0, 1], color='navy', lw=2, linestyle='--')\n",
        "plt.xlim([0.0, 1.0])\n",
        "plt.ylim([0.0, 1.05])\n",
        "plt.xlabel('False Positive Rate')\n",
        "plt.ylabel('True Positive Rate')\n",
        "plt.title('Receiver Operating Characteristic (ROC)')\n",
        "plt.legend(loc=\"lower right\")\n",
        "plt.show()"
      ],
      "metadata": {
        "id": "lpO4pFl0h_Jd",
        "colab": {
          "base_uri": "https://localhost:8080/",
          "height": 876
        },
        "outputId": "d0ea98e0-b483-476e-f2ee-5dd16c121bca"
      },
      "execution_count": null,
      "outputs": [
        {
          "output_type": "stream",
          "name": "stdout",
          "text": [
            "Training accuracy:  0.9097303634232122\n",
            "Test accuracy:  0.7556285178236398\n",
            "Classification Report (Train):\n",
            "              precision    recall  f1-score   support\n",
            "\n",
            "           0       0.90      0.92      0.91      4265\n",
            "           1       0.92      0.90      0.91      4265\n",
            "\n",
            "    accuracy                           0.91      8530\n",
            "   macro avg       0.91      0.91      0.91      8530\n",
            "weighted avg       0.91      0.91      0.91      8530\n",
            "\n",
            "\n",
            "Classification Report (Test):\n",
            "              precision    recall  f1-score   support\n",
            "\n",
            "           0       0.75      0.76      0.76      1066\n",
            "           1       0.76      0.75      0.76      1066\n",
            "\n",
            "    accuracy                           0.76      2132\n",
            "   macro avg       0.76      0.76      0.76      2132\n",
            "weighted avg       0.76      0.76      0.76      2132\n",
            "\n"
          ]
        },
        {
          "output_type": "display_data",
          "data": {
            "text/plain": [
              "<Figure size 640x480 with 1 Axes>"
            ],
            "image/png": "[encoded data removed]"
          },
          "metadata": {}
        }
      ]
    },
    {
      "cell_type": "markdown",
      "metadata": {
        "id": "y2IMYUonF-vy"
      },
      "source": [
        "## Words with large influence\n",
        "\n",
        "Finally, we attempt to partially interpret the logistic regression model and SVM model.\n",
        "\n",
        "Which words are most important in deciding whether a sentence is positive? As a first approximation to this, we simply take the words whose coefficients in `w` have the largest positive values.\n",
        "\n",
        "Likewise, we look at the words whose coefficients in `w` have the most negative values, and we think of these as influential in negative predictions."
      ]
    },
    {
      "cell_type": "code",
      "source": [
        "## Convert vocabulary into a list:\n",
        "vocab = np.array([z[0] for z in sorted(vectorizer.vocabulary_.items(), key=lambda x:x[1])])\n",
        "\n",
        "## Get indices of sorting w\n",
        "inds_log = np.argsort(w_log)\n",
        "inds_svm = np.argsort(w_svm)\n",
        "\n",
        "## Words with large negative values\n",
        "neg_inds_log = inds_log[0:50]\n",
        "neg_inds_svm = inds_svm[0:50]\n",
        "print(\"Highly negative words from logistic regression model: \")\n",
        "print([str(x) for x in list(vocab[neg_inds_log])])\n",
        "\n",
        "print(\"\\nHighly negative words from SVM model: \")\n",
        "print([str(x) for x in list(vocab[neg_inds_svm])])\n",
        "\n",
        "## Words with large positive values\n",
        "pos_inds_log = inds_log[-49:-1]\n",
        "pos_inds_svm = inds_svm[-49:-1]\n",
        "print(\"\\nHighly positive words from logistic regression model: \")\n",
        "print([str(x) for x in list(vocab[pos_inds_log])])\n",
        "\n",
        "print(\"\\nHighly positive words from SVM model: \")\n",
        "print([str(x) for x in list(vocab[pos_inds_svm])])"
      ],
      "metadata": {
        "colab": {
          "base_uri": "https://localhost:8080/"
        },
        "id": "m58NqtvUjVNl",
        "outputId": "86be3950-f1e2-4146-deb0-f3b617ba7b32"
      },
      "execution_count": null,
      "outputs": [
        {
          "output_type": "stream",
          "name": "stdout",
          "text": [
            "Highly negative words from logistic regression model: \n",
            "['bad', 'dull', 'worst', 'fails', 'boring', 'flat', 'neither', 'script', 'mess', 'mildly', 'feels', 'idea', 'mediocre', 'nothing', 'jokes', 'thin', 'doesnt', 'supposed', 'minutes', 'generic', 'unfunny', 'would', 'badly', 'video', 'waste', 'bore', 'pretentious', 'exercise', 'title', 'barely', 'plodding', 'things', 'lack', 'loud', 'tries', 'suffers', 'routine', 'tedious', 'problem', 'none', 'premise', 'series', 'stupid', 'thing', 'silly', 'plot', 'much', 'wasnt', 'contrived', 'pointless']\n",
            "\n",
            "Highly negative words from SVM model: \n",
            "['neither', 'fails', 'dull', 'worst', 'bad', 'waste', 'boring', 'supposed', 'badly', 'flat', 'routine', 'mildly', 'generic', 'script', 'tedious', 'lack', 'cold', 'none', 'idea', 'nothing', 'bore', 'jokes', 'doesnt', 'intentions', 'tries', 'disappointment', 'busy', 'money', 'missing', 'contrived', 'lacking', 'superficial', 'cartoon', 'impostor', 'bits', 'title', 'cant', 'plodding', 'thin', 'sheridan', 'reason', 'mediocre', 'writers', 'feels', 'suffers', 'exercise', 'loud', 'apparent', 'uninspired', 'barely']\n",
            "\n",
            "Highly positive words from logistic regression model: \n",
            "['summer', 'delivers', 'ride', 'polished', 'warm', 'mesmerizing', 'thoughtful', 'count', 'compelling', 'flaws', 'rich', 'touching', 'brilliant', 'world', 'documentary', 'moving', 'gem', 'funny', 'unique', 'captures', 'intelligent', 'terrific', 'manages', 'quiet', 'family', 'beauty', 'cinema', 'fun', 'heart', 'solid', 'rare', 'refreshing', 'portrait', 'remarkable', 'best', 'engrossing', 'hilarious', 'provides', 'works', 'wonderful', 'beautiful', 'culture', 'always', 'unexpected', 'powerful', 'still', 'enjoyable', 'performances']\n",
            "\n",
            "Highly positive words from SVM model: \n",
            "['emotions', 'everyday', 'help', 'wonderful', 'entertain', 'brilliant', 'literate', 'fun', 'terrific', 'rich', 'smarter', 'beauty', 'adolescent', 'delivers', 'culture', 'heart', 'mesmerizing', 'solid', 'form', 'affection', 'cinema', 'manages', 'hilarious', 'frailty', 'breathtaking', 'challenging', 'energetic', 'polished', 'marvel', 'treat', 'sexual', 'always', 'unique', 'amazing', 'count', 'performances', 'engrossing', 'remarkable', 'works', 'refreshing', 'enjoyable', 'still', 'flaws', 'resist', 'provides', 'beautiful', 'powerful', 'unexpected']\n"
          ]
        }
      ]
    },
    {
      "cell_type": "markdown",
      "source": [
        "## Sentiment Prediction Tool\n",
        "\n",
        "The final piece of code you see here is our Sentiment Prediction Tool. It's designed to take any sentence you provide and analyze whether the sentiment behind it is positive or negative. This tool uses the Support Vector Machine (SVM) model we've trained earlier in the notebook. All you need to do is type in a sentence when prompted, and the tool preprocesses your text, converts it into a numerical format that our model understands, and then predicts the sentiment. The model considers the weights and biases learned during training to make its prediction. Give it a try and see how our model performs with your input!\n"
      ],
      "metadata": {
        "id": "2OLzy2SftbB8"
      }
    },
    {
      "cell_type": "code",
      "source": [
        "def predict_sentiment(sentence, vectorizer, clf):\n",
        "    # Preprocess the input sentence\n",
        "    processed_sentence = sentence.lower()\n",
        "\n",
        "    # Vectorize the preprocessed sentence\n",
        "    sentence_vector = vectorizer.transform([processed_sentence])\n",
        "\n",
        "    # Append '1' to the feature vector to match the training data\n",
        "    sentence_vector_with_bias = np.ones((sentence_vector.shape[0], sentence_vector.shape[1] + 1))\n",
        "    sentence_vector_with_bias[:, :-1] = sentence_vector.toarray()\n",
        "\n",
        "    # Predict the sentiment using the trained SVM model\n",
        "    prediction = clf.predict(sentence_vector_with_bias)\n",
        "\n",
        "    # Convert numerical prediction back to a sentiment label\n",
        "    sentiment = \"positive\" if prediction > 0 else \"negative\"\n",
        "    return sentiment\n",
        "\n",
        "# User input\n",
        "input_sentence = input(\"Type in a sentence to analyze its sentiment: \")\n",
        "\n",
        "sentiment = predict_sentiment(input_sentence, vectorizer, clf)\n",
        "print(f\"The sentiment of the sentence is: {sentiment}\")"
      ],
      "metadata": {
        "id": "Ou24KQjzmURA"
      },
      "execution_count": null,
      "outputs": []
    }
  ],
  "metadata": {
    "anaconda-cloud": {},
    "kernelspec": {
      "display_name": "Python 3",
      "language": "python",
      "name": "python3"
    },
    "language_info": {
      "codemirror_mode": {
        "name": "ipython",
        "version": 3
      },
      "file_extension": ".py",
      "mimetype": "text/x-python",
      "name": "python",
      "nbconvert_exporter": "python",
      "pygments_lexer": "ipython3",
      "version": "3.7.4"
    },
    "toc": {
      "colors": {
        "hover_highlight": "#DAA520",
        "navigate_num": "#000000",
        "navigate_text": "#333333",
        "running_highlight": "#FF0000",
        "selected_highlight": "#FFD700",
        "sidebar_border": "#EEEEEE",
        "wrapper_background": "#FFFFFF"
      },
      "moveMenuLeft": true,
      "nav_menu": {
        "height": "12px",
        "width": "252px"
      },
      "navigate_menu": true,
      "number_sections": false,
      "sideBar": true,
      "threshold": 4,
      "toc_cell": false,
      "toc_section_display": "block",
      "toc_window_display": false,
      "widenNotebook": false
    },
    "colab": {
      "provenance": [],
      "include_colab_link": true
    }
  },
  "nbformat": 4,
  "nbformat_minor": 0
}